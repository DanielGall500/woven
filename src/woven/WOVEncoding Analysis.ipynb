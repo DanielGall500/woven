{
 "cells": [
  {
   "cell_type": "markdown",
   "id": "1f7d502b",
   "metadata": {},
   "source": [
    "# A Look At WOVEncoder & WOVEncodable\n",
    "This notebook looks at some simple examples of the word-order variation encoder."
   ]
  },
  {
   "cell_type": "code",
   "execution_count": 1,
   "id": "34b40c07",
   "metadata": {},
   "outputs": [],
   "source": [
    "from encoder import WOVEncoder\n",
    "import pandas as pd\n",
    "import numpy as np\n",
    "from IPython.display import display, HTML"
   ]
  },
  {
   "cell_type": "code",
   "execution_count": 2,
   "id": "47c2dc0c",
   "metadata": {},
   "outputs": [],
   "source": [
    "def display_encoding(original_str, encodable):\n",
    "    tokenised_str_input = encodable.t_inp\n",
    "    tokenised_str_input = [token.strip('▁') for token in tokenised_str_input]\n",
    "    \n",
    "    tokenised_str_output = encodable.t_out\n",
    "    encoding = encodable.get_encoding()\n",
    "    \n",
    "    print(\"--Example Sentence--\")\n",
    "    print(original_str)\n",
    "    print(\"\\n\")\n",
    "\n",
    "    print(\"--Tokenised Input--\")\n",
    "    print(tokenised_str_input)\n",
    "    print(\"\\n\")\n",
    "\n",
    "    print(\"--Tokenised Output--\")\n",
    "    print(tokenised_str_output)\n",
    "    print(\"\\n\")\n",
    "\n",
    "    print(\"--WOVEncoding--\")\n",
    "    df = pd.DataFrame(encoding, index=tokenised_str_output, \\\n",
    "                      columns=tokenised_str_input, dtype=np.int32)\n",
    "    \n",
    "    #Remove boring punctuation!\n",
    "    punc = ['', '.']\n",
    "    for p in punc:\n",
    "        #Check in the input tokens (col headers)\n",
    "        if p in df.columns:\n",
    "            df = df.drop([p],axis=1)\n",
    "        #Check in the output tokens (row headers)\n",
    "        if p in df.index:\n",
    "            df = df.drop([p],axis=0)\n",
    "    \n",
    "    display(HTML(df.to_html()))\n",
    "    \n",
    "def test_encodable(example, encoder):\n",
    "    encodable = encoder.encode([example])\n",
    "    display_encoding(example, encodable)"
   ]
  },
  {
   "cell_type": "markdown",
   "id": "ddb1af61",
   "metadata": {},
   "source": [
    "## Create the Encoder"
   ]
  },
  {
   "cell_type": "code",
   "execution_count": 3,
   "id": "4e1b2624",
   "metadata": {},
   "outputs": [
    {
     "name": "stdout",
     "output_type": "stream",
     "text": [
      "loaded_name model\n",
      "loaded_name model\n",
      "loaded_name tokenizer\n",
      "loaded_name similarity_model\n",
      "loaded_name similarity_tokenizer\n",
      "loaded_name batch_size\n",
      "loaded_name device\n",
      "loaded_name masker\n",
      "loaded_name masker\n",
      "loaded_name tokenizer\n",
      "loaded_name mask_token\n",
      "loaded_name collapse_mask_token\n",
      "loaded_name output_type\n",
      "loaded_name model\n",
      "loaded_name model\n",
      "loaded_name tokenizer\n",
      "loaded_name device\n",
      "loaded_name link\n"
     ]
    }
   ],
   "source": [
    "encoder = WOVEncoder()"
   ]
  },
  {
   "cell_type": "markdown",
   "id": "885cc475",
   "metadata": {},
   "source": [
    "## Example 1: This is a test.\n",
    "An example with no word-order variation."
   ]
  },
  {
   "cell_type": "code",
   "execution_count": 4,
   "id": "a4ba90b9",
   "metadata": {},
   "outputs": [
    {
     "data": {
      "application/vnd.jupyter.widget-view+json": {
       "model_id": "",
       "version_major": 2,
       "version_minor": 0
      },
      "text/plain": [
       "  0%|          | 0/30 [00:00<?, ?it/s]"
      ]
     },
     "metadata": {},
     "output_type": "display_data"
    },
    {
     "name": "stderr",
     "output_type": "stream",
     "text": [
      "Partition explainer: 2it [00:10, 10.42s/it]                                                                                                                                              "
     ]
    },
    {
     "name": "stdout",
     "output_type": "stream",
     "text": [
      "--Example Sentence--\n",
      "This is a test.\n",
      "\n",
      "\n",
      "--Tokenised Input--\n",
      "['This', 'is', 'a', 'test', '.', '']\n",
      "\n",
      "\n",
      "--Tokenised Output--\n",
      "['Das', 'ist', 'ein', 'Test', '.']\n",
      "\n",
      "\n",
      "--WOVEncoding--\n"
     ]
    },
    {
     "name": "stderr",
     "output_type": "stream",
     "text": [
      "\n"
     ]
    },
    {
     "data": {
      "text/html": [
       "<table border=\"1\" class=\"dataframe\">\n",
       "  <thead>\n",
       "    <tr style=\"text-align: right;\">\n",
       "      <th></th>\n",
       "      <th>This</th>\n",
       "      <th>is</th>\n",
       "      <th>a</th>\n",
       "      <th>test</th>\n",
       "    </tr>\n",
       "  </thead>\n",
       "  <tbody>\n",
       "    <tr>\n",
       "      <th>Das</th>\n",
       "      <td>1</td>\n",
       "      <td>0</td>\n",
       "      <td>0</td>\n",
       "      <td>0</td>\n",
       "    </tr>\n",
       "    <tr>\n",
       "      <th>ist</th>\n",
       "      <td>0</td>\n",
       "      <td>1</td>\n",
       "      <td>0</td>\n",
       "      <td>0</td>\n",
       "    </tr>\n",
       "    <tr>\n",
       "      <th>ein</th>\n",
       "      <td>0</td>\n",
       "      <td>0</td>\n",
       "      <td>1</td>\n",
       "      <td>0</td>\n",
       "    </tr>\n",
       "    <tr>\n",
       "      <th>Test</th>\n",
       "      <td>0</td>\n",
       "      <td>0</td>\n",
       "      <td>0</td>\n",
       "      <td>1</td>\n",
       "    </tr>\n",
       "  </tbody>\n",
       "</table>"
      ],
      "text/plain": [
       "<IPython.core.display.HTML object>"
      ]
     },
     "metadata": {},
     "output_type": "display_data"
    }
   ],
   "source": [
    "example = \"This is a test.\"\n",
    "test_encodable(example, encoder)"
   ]
  },
  {
   "cell_type": "markdown",
   "id": "d678197f",
   "metadata": {},
   "source": [
    "## Example 2: I hire him on Monday.\n",
    "An example with separable verbs in German.<br>\n",
    "In German, \"hire\" is \"einstellen\", but \"ein\" should move to the very end of the sentence.<br>\n",
    "For instance, \"I <b>hire</b> someone\" = \"Ich <b>stelle</b> jemand <b>ein</b>\".<br>"
   ]
  },
  {
   "cell_type": "code",
   "execution_count": 5,
   "id": "98ad4388",
   "metadata": {},
   "outputs": [
    {
     "data": {
      "application/vnd.jupyter.widget-view+json": {
       "model_id": "",
       "version_major": 2,
       "version_minor": 0
      },
      "text/plain": [
       "  0%|          | 0/42 [00:00<?, ?it/s]"
      ]
     },
     "metadata": {},
     "output_type": "display_data"
    },
    {
     "name": "stdout",
     "output_type": "stream",
     "text": [
      "--Example Sentence--\n",
      "I hire him on Monday.\n",
      "\n",
      "\n",
      "--Tokenised Input--\n",
      "['I', 'hire', 'him', 'on', 'Monday', '.', '']\n",
      "\n",
      "\n",
      "--Tokenised Output--\n",
      "['Ich', 'stelle', 'ihn', 'am', 'Montag', 'ein', '.']\n",
      "\n",
      "\n",
      "--WOVEncoding--\n"
     ]
    },
    {
     "data": {
      "text/html": [
       "<table border=\"1\" class=\"dataframe\">\n",
       "  <thead>\n",
       "    <tr style=\"text-align: right;\">\n",
       "      <th></th>\n",
       "      <th>I</th>\n",
       "      <th>hire</th>\n",
       "      <th>him</th>\n",
       "      <th>on</th>\n",
       "      <th>Monday</th>\n",
       "    </tr>\n",
       "  </thead>\n",
       "  <tbody>\n",
       "    <tr>\n",
       "      <th>Ich</th>\n",
       "      <td>1</td>\n",
       "      <td>0</td>\n",
       "      <td>0</td>\n",
       "      <td>0</td>\n",
       "      <td>0</td>\n",
       "    </tr>\n",
       "    <tr>\n",
       "      <th>stelle</th>\n",
       "      <td>0</td>\n",
       "      <td>1</td>\n",
       "      <td>0</td>\n",
       "      <td>0</td>\n",
       "      <td>0</td>\n",
       "    </tr>\n",
       "    <tr>\n",
       "      <th>ihn</th>\n",
       "      <td>0</td>\n",
       "      <td>0</td>\n",
       "      <td>1</td>\n",
       "      <td>0</td>\n",
       "      <td>0</td>\n",
       "    </tr>\n",
       "    <tr>\n",
       "      <th>am</th>\n",
       "      <td>0</td>\n",
       "      <td>0</td>\n",
       "      <td>0</td>\n",
       "      <td>1</td>\n",
       "      <td>0</td>\n",
       "    </tr>\n",
       "    <tr>\n",
       "      <th>Montag</th>\n",
       "      <td>0</td>\n",
       "      <td>0</td>\n",
       "      <td>0</td>\n",
       "      <td>0</td>\n",
       "      <td>1</td>\n",
       "    </tr>\n",
       "    <tr>\n",
       "      <th>ein</th>\n",
       "      <td>0</td>\n",
       "      <td>1</td>\n",
       "      <td>0</td>\n",
       "      <td>0</td>\n",
       "      <td>0</td>\n",
       "    </tr>\n",
       "  </tbody>\n",
       "</table>"
      ],
      "text/plain": [
       "<IPython.core.display.HTML object>"
      ]
     },
     "metadata": {},
     "output_type": "display_data"
    }
   ],
   "source": [
    "example = \"I hire him on Monday.\"\n",
    "test_encodable(example, encoder)"
   ]
  },
  {
   "cell_type": "markdown",
   "id": "7d23ce22",
   "metadata": {},
   "source": [
    "## Example 3: I ate it yesterday.\n",
    "An example where the verb moves to the end of the sentence.<br>\n",
    "There is also a tense change here from <i>simple paste</i> to <i>present perfect simple</i>, equivelent to \"I have eaten it\".<br>\n",
    "\"<b>I ate</b> it yesterday\" <=> \"<b>Ich habe</b> es gestern <b>gegessen</b>\""
   ]
  },
  {
   "cell_type": "code",
   "execution_count": 6,
   "id": "c4d93fc8",
   "metadata": {},
   "outputs": [
    {
     "name": "stdout",
     "output_type": "stream",
     "text": [
      "--Example Sentence--\n",
      "I ate it yesterday.\n",
      "\n",
      "\n",
      "--Tokenised Input--\n",
      "['I', 'at', 'e', 'it', 'yesterday', '.', '']\n",
      "\n",
      "\n",
      "--Tokenised Output--\n",
      "['Ich', 'habe', 'es', 'gestern', 'gegessen', '.']\n",
      "\n",
      "\n",
      "--WOVEncoding--\n"
     ]
    },
    {
     "data": {
      "text/html": [
       "<table border=\"1\" class=\"dataframe\">\n",
       "  <thead>\n",
       "    <tr style=\"text-align: right;\">\n",
       "      <th></th>\n",
       "      <th>I</th>\n",
       "      <th>at</th>\n",
       "      <th>e</th>\n",
       "      <th>it</th>\n",
       "      <th>yesterday</th>\n",
       "    </tr>\n",
       "  </thead>\n",
       "  <tbody>\n",
       "    <tr>\n",
       "      <th>Ich</th>\n",
       "      <td>1</td>\n",
       "      <td>0</td>\n",
       "      <td>0</td>\n",
       "      <td>0</td>\n",
       "      <td>0</td>\n",
       "    </tr>\n",
       "    <tr>\n",
       "      <th>habe</th>\n",
       "      <td>1</td>\n",
       "      <td>1</td>\n",
       "      <td>1</td>\n",
       "      <td>0</td>\n",
       "      <td>0</td>\n",
       "    </tr>\n",
       "    <tr>\n",
       "      <th>es</th>\n",
       "      <td>0</td>\n",
       "      <td>0</td>\n",
       "      <td>0</td>\n",
       "      <td>1</td>\n",
       "      <td>0</td>\n",
       "    </tr>\n",
       "    <tr>\n",
       "      <th>gestern</th>\n",
       "      <td>0</td>\n",
       "      <td>0</td>\n",
       "      <td>0</td>\n",
       "      <td>0</td>\n",
       "      <td>1</td>\n",
       "    </tr>\n",
       "    <tr>\n",
       "      <th>gegessen</th>\n",
       "      <td>0</td>\n",
       "      <td>1</td>\n",
       "      <td>1</td>\n",
       "      <td>0</td>\n",
       "      <td>0</td>\n",
       "    </tr>\n",
       "  </tbody>\n",
       "</table>"
      ],
      "text/plain": [
       "<IPython.core.display.HTML object>"
      ]
     },
     "metadata": {},
     "output_type": "display_data"
    }
   ],
   "source": [
    "example = \"I ate it yesterday.\"\n",
    "test_encodable(example, encoder)"
   ]
  }
 ],
 "metadata": {
  "kernelspec": {
   "display_name": "woven-mlYPwSsr",
   "language": "python",
   "name": "woven-mlypwssr"
  },
  "language_info": {
   "codemirror_mode": {
    "name": "ipython",
    "version": 3
   },
   "file_extension": ".py",
   "mimetype": "text/x-python",
   "name": "python",
   "nbconvert_exporter": "python",
   "pygments_lexer": "ipython3",
   "version": "3.7.8"
  }
 },
 "nbformat": 4,
 "nbformat_minor": 5
}
